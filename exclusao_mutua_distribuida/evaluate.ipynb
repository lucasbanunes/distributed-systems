{
 "cells": [
  {
   "cell_type": "code",
   "execution_count": null,
   "metadata": {},
   "outputs": [],
   "source": [
    "import numpy as np\n",
    "import pandas as pd\n",
    "import matplotlib.pyplot as plt\n",
    "\n",
    "n = 2\n",
    "r = 2\n",
    "k = 2\n",
    "log_path = f'{n}_{r}_{k}_resultados.log'\n",
    "results_path = f'{n}_{r}_{k}_resultados.txt'"
   ]
  },
  {
   "cell_type": "code",
   "execution_count": null,
   "metadata": {},
   "outputs": [],
   "source": [
    "n_processes = [2,4,8,16,32]\n",
    "r=2\n",
    "k=2\n",
    "execution_times = list()\n",
    "for n in n_processes:\n",
    "    log_path = f'{n}_{r}_{k}_resultados.log'\n",
    "    results_path = f'{n}_{r}_{k}_resultados.txt'\n",
    "    log_frame = pd.read_csv(log_path, sep=';')\n",
    "    log_frame.columns = ['timestamp', 'id', 'action']\n",
    "    log_frame['timestamp'] = pd.to_datetime(log_frame['timestamp'], unit='s')\n",
    "    log_frame.sort_values(by='timestamp', inplace=True)\n",
    "\n",
    "    results_frame = pd.read_csv(results_path, sep=';')\n",
    "    results_frame.columns = ['timestamp', 'id']\n",
    "    results_frame['timestamp'] = pd.to_datetime(results_frame['timestamp'], format='%Y-%m-%d %H:%M:%S.%f')\n",
    "    results_frame.sort_values(by='timestamp', inplace=True)\n",
    "\n",
    "    #Checks if the log is coeherent with the results\n",
    "    acquire_coeherent = (log_frame.loc[log_frame['action']=='aquire', 'id'] == results_frame['id']).all()\n",
    "    release_coeherent = (log_frame.loc[log_frame['action']=='release', 'id'] == results_frame['id']).all()\n",
    "    is_correct = acquire_coeherent and release_coeherent\n",
    "    print(f'{n}. {is_correct}')\n",
    "\n",
    "    last_id = None\n",
    "    last_action = None\n",
    "    log_wrong_data = list()\n",
    "    # Checking if an acquirer was made without release\n",
    "    for idx, row in log_frame.iterrows():\n",
    "\n",
    "        if (last_id is not None) and (last_id != row['id']) and (last_action is not None) and (last_action == row['action']):\n",
    "            #wrong_idxs = [idx-1, idx, idx+1]\n",
    "            log_wrong_data.append(idx-1)\n",
    "            log_wrong_data.append(idx)\n",
    "            log_wrong_data.append(idx+1)\n",
    "\n",
    "    print(f'{n}. {log_frame.loc[log_wrong_data]}')\n",
    "    if not is_correct or not log_frame.empty:\n",
    "        raise ValueError('Log and results are not coeherent')\n",
    "    execution_times.append(results_frame.loc[-1]['timestamp'] - results_frame.loc[0]['timestamp'])"
   ]
  },
  {
   "cell_type": "code",
   "execution_count": null,
   "metadata": {},
   "outputs": [],
   "source": [
    "plt.subplots(1,1)\n",
    "plt.plot(n_processes, execution_times)\n",
    "plt.xlabel('Número de processos')\n",
    "plt.ylabel('Tempo de execução')\n",
    "plt.title(f'Tempo de execução para r={r} e k={k}')\n",
    "plt.savefig(f'{r}_{k}_plot.png', dpi=200)"
   ]
  }
 ],
 "metadata": {
  "language_info": {
   "name": "python"
  },
  "orig_nbformat": 4
 },
 "nbformat": 4,
 "nbformat_minor": 2
}
