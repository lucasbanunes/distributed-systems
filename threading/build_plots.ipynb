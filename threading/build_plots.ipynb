{
 "cells": [
  {
   "cell_type": "code",
   "execution_count": 1,
   "id": "d7adcaeb-9ca7-4070-8060-a01ecbc0bd5f",
   "metadata": {},
   "outputs": [],
   "source": [
    "import pandas as pd\n",
    "import matplotlib.pyplot as plt"
   ]
  },
  {
   "cell_type": "code",
   "execution_count": null,
   "id": "47af0a71-6b38-4ac8-9c61-0526c7c1ba8b",
   "metadata": {},
   "outputs": [],
   "source": [
    "adder_time = pd.read_csv('threaded-adder-time.csv')\\\n",
    "    .groupby(['n_threads', 'n_numbers'])\\\n",
    "    .agg(['mean', 'std'])\\\n",
    "    .reset_index()\\\n",
    "    .sort_values(by=['n_threads', 'n_numbers'])\n",
    "fig, ax = plt.subplots(1,2, figsize=(12,3))\n",
    "ax[0].plot(x=adder_time['n_threads'], y=[('no_thread', 'mean')], yerr=[('no_thread', 'std')], label='Sem threading')\n",
    "ax[0].plot(x=adder_time['n_threads'], y=[('thread', 'mean')], yerr=[('thread', 'std')], label='Com threading')\n",
    "ax[0].set_ylabel('Segundos')\n",
    "ax[0].set_xlabel('Número de threads')\n",
    "ax[0].grid()\n",
    "ax[0].legend()\n",
    "\n",
    "ax[1].plot(x=adder_time['n_numbers'], y=[('no_thread', 'mean')], yerr=[('no_thread', 'std')], label='Sem threading')\n",
    "ax[1].plot(x=adder_time['n_numbers'], y=[('thread', 'mean')], yerr=[('thread', 'std')], label='Com threading')\n",
    "ax[1].set_ylabel('Tempo de execução (Segundos)')\n",
    "ax[1].set_xlabel('Tamanho do vetor')\n",
    "ax[1].grid()\n",
    "ax[1].legend()"
   ]
  },
  {
   "cell_type": "code",
   "execution_count": null,
   "id": "1bd0268b-f346-42b6-9803-3345ccc75d5f",
   "metadata": {},
   "outputs": [],
   "source": [
    "pc_time = pd.read_csv('threaded-adder-time.csv')\\\n",
    "    .groupby(['memory_size', 'n_producers', 'n_consumers'])\\\n",
    "    .agg(['mean', 'std'])\\\n",
    "    .reset_index()\\\n",
    "    .sort_values(by=['memory_size', 'n_producers', 'n_consumers'])\n",
    "fig, ax = plt.subplots(1,3, figsize=(12,3))\n",
    "ax[0].plot(x=pc_time['memory_size'], y=[('time_elapsed', 'mean')], yerr=[('time_elapsed', 'std')])\n",
    "ax[0].set_ylabel('Tempo de execução (Segundos)')\n",
    "ax[0].set_xlabel('Tamanho da memória')\n",
    "ax[0].grid()\n",
    "\n",
    "ax[1].plot(x=pc_time['n_producers'], y=[('time_elapsed', 'mean')], yerr=[('time_elapsed', 'std')])\n",
    "ax[1].set_ylabel('Tempo de execução (Segundos)')\n",
    "ax[1].set_xlabel('Número de produtores')\n",
    "ax[1].grid()\n",
    "\n",
    "ax[1].plot(x=pc_time['n_consumers'], y=[('time_elapsed', 'mean')], yerr=[('time_elapsed', 'std')])\n",
    "ax[1].set_ylabel('Tempo de execução (Segundos)')\n",
    "ax[1].set_xlabel('Número de consumidores')\n",
    "ax[1].grid()"
   ]
  }
 ],
 "metadata": {
  "kernelspec": {
   "display_name": "Python 3",
   "language": "python",
   "name": "python3"
  },
  "language_info": {
   "codemirror_mode": {
    "name": "ipython",
    "version": 3
   },
   "file_extension": ".py",
   "mimetype": "text/x-python",
   "name": "python",
   "nbconvert_exporter": "python",
   "pygments_lexer": "ipython3",
   "version": "3.9.6"
  }
 },
 "nbformat": 4,
 "nbformat_minor": 5
}
